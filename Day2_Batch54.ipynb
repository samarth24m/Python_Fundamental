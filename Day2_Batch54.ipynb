{
 "cells": [
  {
   "cell_type": "code",
   "execution_count": 1,
   "id": "cfe9f4f6",
   "metadata": {},
   "outputs": [],
   "source": [
    "name =('samarth')"
   ]
  },
  {
   "cell_type": "code",
   "execution_count": 2,
   "id": "5f68f87b",
   "metadata": {},
   "outputs": [],
   "source": [
    "x =2"
   ]
  },
  {
   "cell_type": "code",
   "execution_count": 3,
   "id": "9d060c5b",
   "metadata": {},
   "outputs": [],
   "source": [
    "y =3"
   ]
  },
  {
   "cell_type": "code",
   "execution_count": 4,
   "id": "8ac15c3d",
   "metadata": {},
   "outputs": [],
   "source": [
    "z =(x + y)"
   ]
  },
  {
   "cell_type": "code",
   "execution_count": 5,
   "id": "17032d4d",
   "metadata": {},
   "outputs": [
    {
     "name": "stdout",
     "output_type": "stream",
     "text": [
      "5\n"
     ]
    }
   ],
   "source": [
    "print(z)"
   ]
  },
  {
   "cell_type": "raw",
   "id": "a93da3b0",
   "metadata": {},
   "source": [
    "Rule No 2 : A variable name should not start with a number.  ***"
   ]
  },
  {
   "cell_type": "code",
   "execution_count": 7,
   "id": "c7c08ee8",
   "metadata": {},
   "outputs": [
    {
     "ename": "SyntaxError",
     "evalue": "invalid syntax (<ipython-input-7-ba2da66ce7ac>, line 1)",
     "output_type": "error",
     "traceback": [
      "\u001b[1;36m  File \u001b[1;32m\"<ipython-input-7-ba2da66ce7ac>\"\u001b[1;36m, line \u001b[1;32m1\u001b[0m\n\u001b[1;33m    1name ='om'\u001b[0m\n\u001b[1;37m     ^\u001b[0m\n\u001b[1;31mSyntaxError\u001b[0m\u001b[1;31m:\u001b[0m invalid syntax\n"
     ]
    }
   ],
   "source": [
    "1name ='om'\n",
    " \n",
    "print(1name)"
   ]
  },
  {
   "cell_type": "code",
   "execution_count": 8,
   "id": "b7d96d39",
   "metadata": {},
   "outputs": [
    {
     "name": "stdout",
     "output_type": "stream",
     "text": [
      "om\n"
     ]
    }
   ],
   "source": [
    "name1 ='om'\n",
    "\n",
    "print(name1)"
   ]
  },
  {
   "cell_type": "code",
   "execution_count": 9,
   "id": "680b7b5d",
   "metadata": {},
   "outputs": [
    {
     "ename": "SyntaxError",
     "evalue": "invalid syntax (<ipython-input-9-10cc1220f7c0>, line 1)",
     "output_type": "error",
     "traceback": [
      "\u001b[1;36m  File \u001b[1;32m\"<ipython-input-9-10cc1220f7c0>\"\u001b[1;36m, line \u001b[1;32m1\u001b[0m\n\u001b[1;33m    name@ ='cristiano'\u001b[0m\n\u001b[1;37m          ^\u001b[0m\n\u001b[1;31mSyntaxError\u001b[0m\u001b[1;31m:\u001b[0m invalid syntax\n"
     ]
    }
   ],
   "source": [
    "name@ ='cristiano' \n",
    "\n",
    "print(name@)\n"
   ]
  },
  {
   "cell_type": "code",
   "execution_count": 11,
   "id": "7a00d463",
   "metadata": {},
   "outputs": [
    {
     "ename": "SyntaxError",
     "evalue": "invalid syntax (<ipython-input-11-e0d0b6b8a4f8>, line 1)",
     "output_type": "error",
     "traceback": [
      "\u001b[1;36m  File \u001b[1;32m\"<ipython-input-11-e0d0b6b8a4f8>\"\u001b[1;36m, line \u001b[1;32m1\u001b[0m\n\u001b[1;33m    introduction to datatypes in python :\u001b[0m\n\u001b[1;37m                 ^\u001b[0m\n\u001b[1;31mSyntaxError\u001b[0m\u001b[1;31m:\u001b[0m invalid syntax\n"
     ]
    }
   ],
   "source": [
    "introduction to datatypes in python :\n",
    "    \n",
    "    \n",
    "    1string ------->str\n",
    "    2Numbers-------->integers (int) and floats (float) (decimals)\n",
    "    3list----------->list\n",
    "    4type---------->type\n",
    "    5Dicitionary------>dict\n",
    "    "
   ]
  },
  {
   "cell_type": "code",
   "execution_count": null,
   "id": "bc67beee",
   "metadata": {},
   "outputs": [],
   "source": []
  },
  {
   "cell_type": "code",
   "execution_count": 12,
   "id": "4c07069a",
   "metadata": {},
   "outputs": [
    {
     "ename": "SyntaxError",
     "evalue": "invalid syntax (<ipython-input-12-be9c8f5c56c3>, line 1)",
     "output_type": "error",
     "traceback": [
      "\u001b[1;36m  File \u001b[1;32m\"<ipython-input-12-be9c8f5c56c3>\"\u001b[1;36m, line \u001b[1;32m1\u001b[0m\n\u001b[1;33m    classification of datatypes :\u001b[0m\n\u001b[1;37m                   ^\u001b[0m\n\u001b[1;31mSyntaxError\u001b[0m\u001b[1;31m:\u001b[0m invalid syntax\n"
     ]
    }
   ],
   "source": [
    "classification of datatypes :\n",
    "    \n",
    "    two diff  categeories :\n",
    "        \n",
    "        1.mutable datatype========which we can edit or alter=======these are flexible in nature\n",
    "        \n",
    "        2.immutable datatype======which we cannot edit or alter======these are fixed in nature"
   ]
  },
  {
   "cell_type": "code",
   "execution_count": 13,
   "id": "cbb766cc",
   "metadata": {},
   "outputs": [
    {
     "ename": "SyntaxError",
     "evalue": "invalid syntax (<ipython-input-13-3eff910dea68>, line 1)",
     "output_type": "error",
     "traceback": [
      "\u001b[1;36m  File \u001b[1;32m\"<ipython-input-13-3eff910dea68>\"\u001b[1;36m, line \u001b[1;32m1\u001b[0m\n\u001b[1;33m    introduction to string datatypes :\u001b[0m\n\u001b[1;37m                 ^\u001b[0m\n\u001b[1;31mSyntaxError\u001b[0m\u001b[1;31m:\u001b[0m invalid syntax\n"
     ]
    }
   ],
   "source": [
    "introduction to string datatypes :   \n",
    "    \n",
    "definition  :A string is a seriesof character declared in quotes.\n",
    "    \n",
    "classification :It is classified as an immutable datatype\n",
    "    \n",
    " how do you declare a string----------?  3 possible approaches :\n",
    "    \n",
    "    1"
   ]
  },
  {
   "cell_type": "markdown",
   "id": "d79bcf99",
   "metadata": {},
   "source": [
    "type(name)"
   ]
  },
  {
   "cell_type": "code",
   "execution_count": 15,
   "id": "b75d9cbe",
   "metadata": {},
   "outputs": [
    {
     "data": {
      "text/plain": [
       "str"
      ]
     },
     "execution_count": 15,
     "metadata": {},
     "output_type": "execute_result"
    }
   ],
   "source": [
    "type(name)"
   ]
  },
  {
   "cell_type": "code",
   "execution_count": 16,
   "id": "fc9393b2",
   "metadata": {},
   "outputs": [],
   "source": [
    "num = 5"
   ]
  },
  {
   "cell_type": "code",
   "execution_count": 17,
   "id": "c10abcdd",
   "metadata": {},
   "outputs": [
    {
     "data": {
      "text/plain": [
       "int"
      ]
     },
     "execution_count": 17,
     "metadata": {},
     "output_type": "execute_result"
    }
   ],
   "source": [
    "type(num)"
   ]
  },
  {
   "cell_type": "code",
   "execution_count": 18,
   "id": "94c3a072",
   "metadata": {},
   "outputs": [],
   "source": [
    "num1=5.0"
   ]
  },
  {
   "cell_type": "code",
   "execution_count": 19,
   "id": "60bcea99",
   "metadata": {},
   "outputs": [
    {
     "data": {
      "text/plain": [
       "float"
      ]
     },
     "execution_count": 19,
     "metadata": {},
     "output_type": "execute_result"
    }
   ],
   "source": [
    "type(num1)"
   ]
  },
  {
   "cell_type": "code",
   "execution_count": null,
   "id": "64a38417",
   "metadata": {},
   "outputs": [],
   "source": []
  }
 ],
 "metadata": {
  "kernelspec": {
   "display_name": "Python 3",
   "language": "python",
   "name": "python3"
  },
  "language_info": {
   "codemirror_mode": {
    "name": "ipython",
    "version": 3
   },
   "file_extension": ".py",
   "mimetype": "text/x-python",
   "name": "python",
   "nbconvert_exporter": "python",
   "pygments_lexer": "ipython3",
   "version": "3.8.8"
  }
 },
 "nbformat": 4,
 "nbformat_minor": 5
}
